{
 "cells": [
  {
   "cell_type": "code",
   "execution_count": 1,
   "id": "2ed84d73",
   "metadata": {},
   "outputs": [
    {
     "name": "stderr",
     "output_type": "stream",
     "text": [
      "/opt/anaconda3/envs/tensorflow/lib/python3.12/site-packages/torch/utils/_pytree.py:185: FutureWarning: optree is installed but the version is too old to support PyTorch Dynamo in C++ pytree. C++ pytree support is disabled. Please consider upgrading optree using `python3 -m pip install --upgrade 'optree>=0.13.0'`.\n",
      "  warnings.warn(\n"
     ]
    }
   ],
   "source": [
    "from transformers import pipeline\n",
    "import gradio as gr\n",
    "import PyPDF2  # For PDF files\n",
    "from docx import Document  # For Word files"
   ]
  },
  {
   "cell_type": "code",
   "execution_count": 2,
   "id": "dd44ced4",
   "metadata": {},
   "outputs": [
    {
     "name": "stderr",
     "output_type": "stream",
     "text": [
      "Device set to use mps:0\n",
      "Device set to use mps:0\n"
     ]
    }
   ],
   "source": [
    "# Initialize the QA & summarization pipelines\n",
    "question_answerer = pipeline(\"question-answering\", model='distilbert-base-cased-distilled-squad')\n",
    "summarizer = pipeline(\"summarization\", model=\"facebook/bart-large-cnn\")"
   ]
  },
  {
   "cell_type": "code",
   "execution_count": 3,
   "id": "7716ae65",
   "metadata": {},
   "outputs": [],
   "source": [
    "# Open file (PDF, Word, or text) and extract text\n",
    "def extract_text_from_file(file_path):\n",
    "    \"\"\"Extract text from PDF, Word, or plain text files.\"\"\"\n",
    "    if file_path.endswith('.pdf'):\n",
    "        with open(file_path, 'rb') as f:\n",
    "            reader = PyPDF2.PdfReader(f)\n",
    "            text = \"\"\n",
    "            for page in reader.pages:\n",
    "                text += page.extract_text()\n",
    "        return text\n",
    "    elif file_path.endswith('.docx'):\n",
    "        doc = Document(file_path)\n",
    "        text = \"\\n\".join([para.text for para in doc.paragraphs])\n",
    "        return text\n",
    "    elif file_path.endswith('.txt'):\n",
    "        with open(file_path, 'r', encoding='utf-8') as f:\n",
    "            return f.read()\n",
    "    else:\n",
    "        raise ValueError(\"Unsupported file format. Please upload a PDF, Word (.docx), or plain text (.txt) file.\")"
   ]
  },
  {
   "cell_type": "code",
   "execution_count": 4,
   "id": "0ce9ff8e",
   "metadata": {},
   "outputs": [],
   "source": [
    "# Function to handle the question-answering process\n",
    "def process_document(file, question=None, summarize=False):\n",
    "    \"\"\"Process the uploaded file to answer a question and/or generate a summary.\"\"\"\n",
    "    if file is None:\n",
    "        return \"Error: No file uploaded.\"\n",
    "    \n",
    "    try:\n",
    "        text = extract_text_from_file(file.name)\n",
    "        output = \"\"\n",
    "        \n",
    "        # Answer the question if provided\n",
    "        if question:\n",
    "            result = question_answerer(question=question, context=text)\n",
    "            output += (\n",
    "                f\"Question: {question}\\n\"\n",
    "                f\"Answer: {result['answer']}\\n\"\n",
    "                f\"Confidence Score: {result['score']:.4f}\\n\"\n",
    "                f\"Answer Location: (Start: {result['start']}, End: {result['end']})\\n\\n\"\n",
    "            )\n",
    "        \n",
    "        # Generate a summary if requested\n",
    "        if summarize:\n",
    "            summary = summarizer(text, \n",
    "                                max_length=300, \n",
    "                                min_length=100, \n",
    "                                do_sample=False)\n",
    "            output += f\"Summary:\\n{summary[0]['summary_text']}\\n\"\n",
    "        \n",
    "        return output if output else \"No action selected. Please ask a question or request a summary.\"\n",
    "    \n",
    "    except Exception as e:\n",
    "        return f\"Error processing the file: {str(e)}\""
   ]
  },
  {
   "cell_type": "code",
   "execution_count": null,
   "id": "416eff13",
   "metadata": {},
   "outputs": [
    {
     "name": "stdout",
     "output_type": "stream",
     "text": [
      "Running on local URL:  http://127.0.0.1:7861\n",
      "IMPORTANT: You are using gradio version 3.50.2, however version 4.44.1 is available, please upgrade.\n",
      "--------\n",
      "Running on public URL: https://73a45bd120319a9fa7.gradio.live\n",
      "\n",
      "This share link expires in 72 hours. For free permanent hosting and GPU upgrades, run `gradio deploy` from Terminal to deploy to Spaces (https://huggingface.co/spaces)\n"
     ]
    },
    {
     "data": {
      "text/html": [
       "<div><iframe src=\"https://73a45bd120319a9fa7.gradio.live\" width=\"100%\" height=\"500\" allow=\"autoplay; camera; microphone; clipboard-read; clipboard-write;\" frameborder=\"0\" allowfullscreen></iframe></div>"
      ],
      "text/plain": [
       "<IPython.core.display.HTML object>"
      ]
     },
     "metadata": {},
     "output_type": "display_data"
    },
    {
     "data": {
      "text/plain": []
     },
     "execution_count": 6,
     "metadata": {},
     "output_type": "execute_result"
    }
   ],
   "source": [
    "# Create the Gradio app\n",
    "with gr.Blocks() as app:\n",
    "    gr.Markdown(\"# Document Question Answering & Summarization\")\n",
    "    gr.Markdown(\"Upload a document (PDF, Word, or Text) and ask questions or request a summary.\")\n",
    "    gr.Markdown(\"### Note: This is a demo version. For production use, consider using a more robust solution.\")\n",
    "    \n",
    "    with gr.Row():\n",
    "        file_input = gr.File(label=\"Upload Document\")\n",
    "    \n",
    "    with gr.Row():\n",
    "        question_input = gr.Textbox(label=\"Ask a Question (Optional)\")\n",
    "    \n",
    "    with gr.Row():\n",
    "        summarize_checkbox = gr.Checkbox(label=\"Generate Summary\")\n",
    "    \n",
    "    with gr.Row():\n",
    "        submit_button = gr.Button(\"Submit\")\n",
    "    \n",
    "    output_box = gr.Textbox(label=\"Output\", lines=10, show_copy_button=True)\n",
    "    \n",
    "    submit_button.click(\n",
    "        fn=process_document,\n",
    "        inputs=[file_input, question_input, summarize_checkbox],\n",
    "        outputs=output_box\n",
    "    )\n",
    "\n",
    "# Launch the app\n",
    "#app.launch(show_error=True)\n",
    "#app.launch(share=True)"
   ]
  },
  {
   "cell_type": "code",
   "execution_count": null,
   "id": "5a8c0f3c",
   "metadata": {},
   "outputs": [],
   "source": []
  }
 ],
 "metadata": {
  "kernelspec": {
   "display_name": "tensorflow",
   "language": "python",
   "name": "python3"
  },
  "language_info": {
   "codemirror_mode": {
    "name": "ipython",
    "version": 3
   },
   "file_extension": ".py",
   "mimetype": "text/x-python",
   "name": "python",
   "nbconvert_exporter": "python",
   "pygments_lexer": "ipython3",
   "version": "3.12.9"
  }
 },
 "nbformat": 4,
 "nbformat_minor": 5
}
