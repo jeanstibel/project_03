{
 "cells": [
  {
   "cell_type": "code",
   "execution_count": null,
   "id": "ec26b831",
   "metadata": {},
   "outputs": [],
   "source": [
    "# !pip install transformers"
   ]
  },
  {
   "cell_type": "markdown",
   "id": "76f2433b",
   "metadata": {},
   "source": [
    "## Summazition"
   ]
  },
  {
   "cell_type": "code",
   "execution_count": 2,
   "id": "443b70e3",
   "metadata": {},
   "outputs": [
    {
     "name": "stderr",
     "output_type": "stream",
     "text": [
      "/opt/anaconda3/envs/tensorflow/lib/python3.12/site-packages/tqdm/auto.py:21: TqdmWarning: IProgress not found. Please update jupyter and ipywidgets. See https://ipywidgets.readthedocs.io/en/stable/user_install.html\n",
      "  from .autonotebook import tqdm as notebook_tqdm\n",
      "/opt/anaconda3/envs/tensorflow/lib/python3.12/site-packages/torch/utils/_pytree.py:185: FutureWarning: optree is installed but the version is too old to support PyTorch Dynamo in C++ pytree. C++ pytree support is disabled. Please consider upgrading optree using `python3 -m pip install --upgrade 'optree>=0.13.0'`.\n",
      "  warnings.warn(\n",
      "Device set to use mps:0\n"
     ]
    }
   ],
   "source": [
    "# Import the pipeline class from the transformers module. \n",
    "from transformers import pipeline\n",
    "# Instantiate the pipeline class for summarization using the facebook/bart-large-cnn model.\n",
    "summarizer = pipeline(\"summarization\", model=\"facebook/bart-large-cnn\")"
   ]
  },
  {
   "cell_type": "code",
   "execution_count": 4,
   "id": "d1d1f077",
   "metadata": {},
   "outputs": [],
   "source": [
    "# Create a variable to contain the text from (https://en.wikipedia.org/wiki/Deep_learning) to summarize.\n",
    "article =\"\"\"Deep learning is part of a broader family of machine learning methods based on artificial neural networks with representation learning. Learning can be supervised, semi-supervised or unsupervised.[2] \n",
    "\n",
    "Deep-learning architectures such as deep neural networks, deep belief networks, deep reinforcement learning, recurrent neural networks, convolutional neural networks and transformers have been applied to fields including computer vision, speech recognition, natural language processing, machine translation, bioinformatics, drug design, medical image analysis, climate science, material inspection and board game programs, where they have produced results comparable to and in some cases surpassing human expert performance.[3][4][5]\n",
    "\n",
    "Artificial neural networks (ANNs) were inspired by information processing and distributed communication nodes in biological systems. ANNs have various differences from biological brains. Specifically, artificial neural networks tend to be static and symbolic, while the biological brain of most living organisms is dynamic (plastic) and analog.[6][7]\n",
    "\n",
    "The adjective \"deep\" in deep learning refers to the use of multiple layers in the network. Early work showed that a linear perceptron cannot be a universal classifier, but that a network with a nonpolynomial activation function with one hidden layer of unbounded width can. Deep learning is a modern variation that is concerned with an unbounded number of layers of bounded size, which permits practical application and optimized implementation, while retaining theoretical universality under mild conditions. In deep learning the layers are also permitted to be heterogeneous and to deviate widely from biologically informed connectionist models, for the sake of efficiency, trainability and understandability.\"\"\""
   ]
  },
  {
   "cell_type": "code",
   "execution_count": 5,
   "id": "44b1ad25",
   "metadata": {},
   "outputs": [
    {
     "data": {
      "text/plain": [
       "[{'summary_text': 'Deep learning is part of a broader family of machine learning methods based on artificial neural networks with representation learning. Learning can be supervised, semi-supervised or unsupervised. Deep-learning architectures have been applied to fields including computer vision, speech recognition, natural language processing, machine translation, bioinformatics, drug design and medical image analysis.'}]"
      ]
     },
     "execution_count": 5,
     "metadata": {},
     "output_type": "execute_result"
    }
   ],
   "source": [
    "# Get the most likely summary of the article using \"False\" for the `do_sample` parameter.\n",
    "most_likely_summary = summarizer(article, \n",
    "                     min_length=30, \n",
    "                     max_length=130, \n",
    "                     do_sample=False)\n",
    "\n",
    "# Display the summary\n",
    "most_likely_summary"
   ]
  },
  {
   "cell_type": "code",
   "execution_count": 6,
   "id": "565a874b",
   "metadata": {},
   "outputs": [
    {
     "data": {
      "text/plain": [
       "'Deep learning is part of a broader family of machine learning methods based on artificial neural networks with representation learning. Learning can be supervised, semi-supervised or unsupervised. Deep-learning architectures have been applied to fields including computer vision, speech recognition, natural language processing, machine translation, bioinformatics, drug design and medical image analysis.'"
      ]
     },
     "execution_count": 6,
     "metadata": {},
     "output_type": "execute_result"
    }
   ],
   "source": [
    "# Get the summary text from the JSON output\n",
    "most_likely_summary[0][\"summary_text\"]"
   ]
  },
  {
   "cell_type": "code",
   "execution_count": 7,
   "id": "7aee7925",
   "metadata": {},
   "outputs": [
    {
     "data": {
      "text/plain": [
       "'Deep learning is part of a broader family of machine learning methods based on artificial neural networks with representation learning. Learning can be supervised, semi-supervised or unsupervised. Deep-learning architectures have been applied to fields including computer vision, speech recognition, natural language processing, machine translation and bioinformatics.'"
      ]
     },
     "execution_count": 7,
     "metadata": {},
     "output_type": "execute_result"
    }
   ],
   "source": [
    "# Get a more diverse summary of the article using \"True\" for the `do_sample` parameter.\n",
    "diverse_summary = summarizer(article, \n",
    "                     min_length=30, \n",
    "                     max_length=130, \n",
    "                     do_sample=True)[0][\"summary_text\"]\n",
    "\n",
    "# Display the summary\n",
    "diverse_summary"
   ]
  },
  {
   "cell_type": "markdown",
   "id": "273546b9",
   "metadata": {},
   "source": [
    "## Question and answer"
   ]
  },
  {
   "cell_type": "code",
   "execution_count": null,
   "id": "05e5e4bf",
   "metadata": {},
   "outputs": [],
   "source": [
    "# pip install transformers\n",
    "# pip install gradio"
   ]
  },
  {
   "cell_type": "code",
   "execution_count": 8,
   "id": "1217aa1b",
   "metadata": {},
   "outputs": [],
   "source": [
    "# Import transformers pipeline\n",
    "from transformers import pipeline\n",
    "# Import Gradio\n",
    "import gradio as gr"
   ]
  },
  {
   "cell_type": "code",
   "execution_count": 9,
   "id": "7dd750e1",
   "metadata": {},
   "outputs": [
    {
     "name": "stderr",
     "output_type": "stream",
     "text": [
      "Device set to use mps:0\n"
     ]
    }
   ],
   "source": [
    "# Initialize the pipeline to generate questions and answers using the distilbert-base-cased-distilled-squad model. \n",
    "question_answerer = pipeline(\"question-answering\", model='distilbert-base-cased-distilled-squad')"
   ]
  },
  {
   "cell_type": "code",
   "execution_count": 11,
   "id": "74a39e0f",
   "metadata": {},
   "outputs": [],
   "source": [
    "# Create a function called `question_answer` that takes two parameters, the text to search and a question.\n",
    "# The function should return the question, answer, probability score, and the starting and ending index of the answer.\n",
    "def question_answer(text, question):\n",
    "    result = question_answerer(question=question, context=text)\n",
    "    return question, result['answer'], result['score'], result['start'], result['end']"
   ]
  },
  {
   "cell_type": "code",
   "execution_count": 12,
   "id": "11b45200",
   "metadata": {},
   "outputs": [
    {
     "name": "stdout",
     "output_type": "stream",
     "text": [
      "Running on local URL:  http://127.0.0.1:7862\n",
      "\n",
      "To create a public link, set `share=True` in `launch()`.\n"
     ]
    },
    {
     "data": {
      "text/html": [
       "<div><iframe src=\"http://127.0.0.1:7862/\" width=\"100%\" height=\"500\" allow=\"autoplay; camera; microphone; clipboard-read; clipboard-write;\" frameborder=\"0\" allowfullscreen></iframe></div>"
      ],
      "text/plain": [
       "<IPython.core.display.HTML object>"
      ]
     },
     "metadata": {},
     "output_type": "display_data"
    },
    {
     "data": {
      "text/plain": []
     },
     "execution_count": 12,
     "metadata": {},
     "output_type": "execute_result"
    },
    {
     "name": "stdout",
     "output_type": "stream",
     "text": [
      "IMPORTANT: You are using gradio version 3.50.2, however version 4.44.1 is available, please upgrade.\n",
      "--------\n"
     ]
    }
   ],
   "source": [
    "# Create the app with two Textbox components. \n",
    "# The first textbox will take the text to search the second will take the question.\n",
    "# The output should show the question, answer, probability score, and the starting and ending index of the answer.\n",
    "\n",
    "app = gr.Interface(\n",
    "    fn=question_answer,\n",
    "    inputs = [\n",
    "        gr.Textbox(label=\"Paste the text to search.\"), \n",
    "        gr.Textbox(label=\"Ask a question.\")],\n",
    "    outputs=gr.Textbox(lines=10, label=\"Answer to question, probability score, and location.\", show_copy_button=True))\n",
    "    \n",
    "# Launch the app.\n",
    "app.launch(show_error=True)"
   ]
  },
  {
   "cell_type": "code",
   "execution_count": null,
   "id": "3e38fdce",
   "metadata": {},
   "outputs": [],
   "source": []
  },
  {
   "cell_type": "markdown",
   "id": "0f9d7701",
   "metadata": {},
   "source": [
    "## Upload Document"
   ]
  },
  {
   "cell_type": "code",
   "execution_count": 1,
   "id": "e952d17d",
   "metadata": {},
   "outputs": [],
   "source": [
    "def extract_text_from_file(file_path):\n",
    "    \"\"\"Extract text from PDF, Word, or plain text files.\"\"\"\n",
    "    if file_path.endswith('.pdf'):\n",
    "        with open(file_path, 'rb') as f:\n",
    "            reader = PyPDF2.PdfReader(f)\n",
    "            text = \"\"\n",
    "            for page in reader.pages:\n",
    "                text += page.extract_text()\n",
    "        return text\n",
    "    elif file_path.endswith('.docx'):\n",
    "        doc = Document(file_path)\n",
    "        text = \"\\n\".join([para.text for para in doc.paragraphs])\n",
    "        return text\n",
    "    elif file_path.endswith('.txt'):\n",
    "        with open(file_path, 'r', encoding='utf-8') as f:\n",
    "            return f.read()\n",
    "    else:\n",
    "        raise ValueError(\"Unsupported file format. Please upload a PDF, Word (.docx), or plain text (.txt) file.\")"
   ]
  },
  {
   "cell_type": "code",
   "execution_count": null,
   "id": "bd8f6ebc",
   "metadata": {},
   "outputs": [],
   "source": []
  },
  {
   "cell_type": "code",
   "execution_count": null,
   "id": "4f968f09",
   "metadata": {},
   "outputs": [],
   "source": []
  },
  {
   "cell_type": "code",
   "execution_count": null,
   "id": "cb65d243",
   "metadata": {},
   "outputs": [],
   "source": []
  },
  {
   "cell_type": "code",
   "execution_count": null,
   "id": "83bdce2b",
   "metadata": {},
   "outputs": [],
   "source": []
  },
  {
   "cell_type": "code",
   "execution_count": null,
   "id": "0f038d65",
   "metadata": {},
   "outputs": [],
   "source": []
  },
  {
   "cell_type": "code",
   "execution_count": null,
   "id": "0f8a02c1",
   "metadata": {},
   "outputs": [],
   "source": []
  },
  {
   "cell_type": "code",
   "execution_count": null,
   "id": "78e84559",
   "metadata": {},
   "outputs": [],
   "source": []
  }
 ],
 "metadata": {
  "kernelspec": {
   "display_name": "tensorflow",
   "language": "python",
   "name": "python3"
  },
  "language_info": {
   "codemirror_mode": {
    "name": "ipython",
    "version": 3
   },
   "file_extension": ".py",
   "mimetype": "text/x-python",
   "name": "python",
   "nbconvert_exporter": "python",
   "pygments_lexer": "ipython3",
   "version": "3.12.9"
  }
 },
 "nbformat": 4,
 "nbformat_minor": 5
}
